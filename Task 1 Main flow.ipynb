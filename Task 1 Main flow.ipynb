{
  "metadata": {
    "kernelspec": {
      "name": "python",
      "display_name": "Python (Pyodide)",
      "language": "python"
    },
    "language_info": {
      "codemirror_mode": {
        "name": "python",
        "version": 3
      },
      "file_extension": ".py",
      "mimetype": "text/x-python",
      "name": "python",
      "nbconvert_exporter": "python",
      "pygments_lexer": "ipython3",
      "version": "3.8"
    }
  },
  "nbformat_minor": 5,
  "nbformat": 4,
  "cells": [
    {
      "id": "efb1c0a3-3fc5-4123-bc34-d1c24b3e6ad4",
      "cell_type": "code",
      "source": "my_list = [40, 10, 30]\nmy_list.append(4)  \nmy_list.remove(10)  \nmy_list[0] = 15    \nprint(\"Final List:\", my_list)\n\nmy_dict = {\"name\": \"Alice\", \"age\": 40}\nmy_dict[\"city\"] = \"New York\"  \ndel my_dict[\"age\"]           \nmy_dict[\"name\"] = \"Bob\"      \nprint(\"Final Dictionary:\", my_dict)\n\nmy_set = {40, 10, 30}\nmy_set.add(4)      \nmy_set.remove(10)   \nprint(\"Final Set:\", my_set)",
      "metadata": {
        "trusted": true
      },
      "outputs": [
        {
          "name": "stdout",
          "text": "Final List: [15, 30, 4]\nFinal Dictionary: {'name': 'Bob', 'city': 'New York'}\nFinal Set: {40, 4, 30}\n",
          "output_type": "stream"
        }
      ],
      "execution_count": 7
    },
    {
      "id": "0d31d55d-df32-4b1d-a35c-c71d496ebcc6",
      "cell_type": "code",
      "source": "my_list = [10, 20, 30]\nmy_list.append(40)  \nmy_list.remove(20)  \nmy_list[0] = 50     \nprint(\"Final List:\", my_list)\n\nmy_dict = {\"name\": \"John\", \"age\": 25}\nmy_dict[\"city\"] = \"Lagos\"       \ndel my_dict[\"age\"]              \nmy_dict[\"name\"] = \"Jane Doe\"    \nprint(\"Final Dictionary:\", my_dict)\n\nmy_set = {5, 10, 15}\nmy_set.add(20)       \nmy_set.remove(10)   \nprint(\"Final Set:\", my_set)",
      "metadata": {
        "trusted": true
      },
      "outputs": [
        {
          "name": "stdout",
          "text": "Final List: [50, 30, 40]\nFinal Dictionary: {'name': 'Jane Doe', 'city': 'Lagos'}\nFinal Set: {20, 5, 15}\n",
          "output_type": "stream"
        }
      ],
      "execution_count": 4
    },
    {
      "id": "bb603e99-69ba-403a-a1bd-10ad63c16f34",
      "cell_type": "code",
      "source": "",
      "metadata": {
        "trusted": true
      },
      "outputs": [],
      "execution_count": null
    }
  ]
}