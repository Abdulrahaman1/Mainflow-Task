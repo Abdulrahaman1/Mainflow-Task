{
  "metadata": {
    "kernelspec": {
      "name": "python",
      "display_name": "Python (Pyodide)",
      "language": "python"
    },
    "language_info": {
      "codemirror_mode": {
        "name": "python",
        "version": 3
      },
      "file_extension": ".py",
      "mimetype": "text/x-python",
      "name": "python",
      "nbconvert_exporter": "python",
      "pygments_lexer": "ipython3",
      "version": "3.8"
    }
  },
  "nbformat_minor": 4,
  "nbformat": 4,
  "cells": [
    {
      "cell_type": "code",
      "source": "import pandas as pd",
      "metadata": {
        "trusted": true
      },
      "outputs": [
        {
          "name": "stderr",
          "output_type": "stream",
          "text": "<ipython-input-1-7dd3504c366f>:1: DeprecationWarning: \nPyarrow will become a required dependency of pandas in the next major release of pandas (pandas 3.0),\n(to allow more performant data types, such as the Arrow string type, and better interoperability with other libraries)\nbut was not found to be installed on your system.\nIf this would cause problems for you,\nplease provide us feedback at https://github.com/pandas-dev/pandas/issues/54466\n        \n  import pandas as pd\n"
        }
      ],
      "execution_count": 1
    },
    {
      "cell_type": "code",
      "source": "file_path = '01.Data Cleaning and Preprocessing.csv'",
      "metadata": {
        "trusted": true
      },
      "outputs": [],
      "execution_count": 2
    },
    {
      "cell_type": "code",
      "source": "df = pd.read_csv(file_path)",
      "metadata": {
        "trusted": true
      },
      "outputs": [],
      "execution_count": 3
    },
    {
      "cell_type": "code",
      "source": "print(\"concise summary of the DataFrame:\")\nprint(df.head())",
      "metadata": {
        "trusted": true,
        "scrolled": true
      },
      "outputs": [
        {
          "name": "stdout",
          "output_type": "stream",
          "text": "concise summary of the DataFrame:\n  Observation  Y-Kappa  ChipRate  BF-CMratio  BlowFlow  ChipLevel4   \\\n0    31-00:00    23.10    16.520     121.717  1177.607      169.805   \n1    31-01:00    27.60    16.810      79.022  1328.360      341.327   \n2    31-02:00    23.19    16.709      79.562  1329.407      239.161   \n3    31-03:00    23.60    16.478      81.011  1334.877      213.527   \n4    31-04:00    22.90    15.618      93.244  1334.168      243.131   \n\n   T-upperExt-2   T-lowerExt-2    UCZAA  WhiteFlow-4   ...  SteamFlow-4   \\\n0        358.282         329.545  1.443       599.253  ...        67.122   \n1        351.050         329.067  1.549       537.201  ...        60.012   \n2        350.022         329.260  1.600       549.611  ...        61.304   \n3        350.938         331.142  1.604       623.362  ...        68.496   \n4        351.640         332.709    NaN       638.672  ...        70.022   \n\n   Lower-HeatT-3  Upper-HeatT-3   ChipMass-4   WeakLiquorF   BlackFlow-2   \\\n0        329.432         303.099      175.964      1127.197      1319.039   \n1        330.823         304.879      163.202       665.975      1297.317   \n2        329.140         303.383      164.013       677.534      1327.072   \n3        328.875         302.254      181.487       767.853      1324.461   \n4        328.352         300.954      183.929       888.448      1343.424   \n\n   WeakWashF   SteamHeatF-3   T-Top-Chips-4   SulphidityL-4   \n0     257.325         54.612         252.077             NaN  \n1     241.182         46.603         251.406           29.11  \n2     237.272         51.795         251.335             NaN  \n3     239.478         54.846         250.312           29.02  \n4     215.372         54.186         249.916           29.01  \n\n[5 rows x 23 columns]\n"
        }
      ],
      "execution_count": 5
    },
    {
      "cell_type": "code",
      "source": "print(\"\\nDescriptive statistics for all columns:\")\nprint(df.describe(include='all'))",
      "metadata": {
        "trusted": true
      },
      "outputs": [
        {
          "name": "stdout",
          "output_type": "stream",
          "text": "\nDescriptive statistics for all columns:\n       Observation     Y-Kappa    ChipRate  BF-CMratio     BlowFlow  \\\ncount          324  324.000000  319.000000  307.000000   308.000000   \nunique         301         NaN         NaN         NaN          NaN   \ntop       31-00:00         NaN         NaN         NaN          NaN   \nfreq             2         NaN         NaN         NaN          NaN   \nmean           NaN   20.635370   14.347937   87.464456  1237.837614   \nstd            NaN    3.070036    1.499095    7.995012   100.593735   \nmin            NaN   12.170000    9.983000   68.645000     0.000000   \n25%            NaN   18.382500   13.358000   81.823000  1193.215250   \n50%            NaN   20.845000   14.308000   86.739000  1273.138500   \n75%            NaN   23.032500   15.517000   92.372000  1289.196000   \nmax            NaN   27.600000   16.958000  121.717000  1351.240000   \n\n        ChipLevel4   T-upperExt-2   T-lowerExt-2         UCZAA  WhiteFlow-4   \\\ncount    323.000000     322.000000      322.000000  299.000000    323.000000   \nunique          NaN            NaN             NaN         NaN           NaN   \ntop             NaN            NaN             NaN         NaN           NaN   \nfreq            NaN            NaN             NaN         NaN           NaN   \nmean     258.164483     356.904295      324.020180    1.492010    591.732260   \nstd       87.987452       9.209290        7.621402    0.105923     67.016351   \nmin        0.000000     339.168000      284.633000    1.182000    405.111000   \n25%      213.527000     350.241250      321.420000    1.431500    540.989500   \n50%      271.792000     356.843000      325.669000    1.498000    592.895000   \n75%      321.680000     362.242250      329.175000    1.560500    639.480500   \nmax      419.014000     399.135000      337.012000    1.747000    731.394000   \n\n        ...  SteamFlow-4   Lower-HeatT-3  Upper-HeatT-3   ChipMass-4   \\\ncount   ...    323.000000     322.000000      322.000000   323.000000   \nunique  ...           NaN            NaN             NaN          NaN   \ntop     ...           NaN            NaN             NaN          NaN   \nfreq    ...           NaN            NaN             NaN          NaN   \nmean    ...     66.668285     325.567820      300.525699   162.222322   \nstd     ...      5.708587       4.609862        4.568484    14.160688   \nmin     ...     48.568000     318.051000      293.312000   113.922000   \n25%     ...     62.518000     321.385500      296.513250   153.032500   \n50%     ...     67.429000     324.741000      299.126000   163.690000   \n75%     ...     71.522000     329.845250      304.244750   172.555000   \nmax     ...     76.147000     333.854000      311.146000   189.268000   \n\n        WeakLiquorF   BlackFlow-2   WeakWashF   SteamHeatF-3   T-Top-Chips-4   \\\ncount     323.000000    322.000000  323.000000     322.000000      323.000000   \nunique           NaN           NaN         NaN            NaN             NaN   \ntop              NaN           NaN         NaN            NaN             NaN   \nfreq             NaN           NaN         NaN            NaN             NaN   \nmean      873.828941   1175.917016  263.543068      49.696907      251.240087   \nstd       122.073521    149.334010  163.666942       4.551909        1.283432   \nmin       486.938000    838.948000    0.000000      35.510000      248.359000   \n25%       792.019500   1044.817500  134.649000      46.389750      250.312000   \n50%       865.254000   1150.221500  269.193000      50.277000      251.380000   \n75%       965.286500   1319.021250  405.563000      53.294250      252.323500   \nmax      1226.277000   1395.767000  715.715000      63.332000      254.122000   \n\n        SulphidityL-4   \ncount       173.000000  \nunique             NaN  \ntop                NaN  \nfreq               NaN  \nmean         30.411671  \nstd           0.701317  \nmin          29.010000  \n25%          29.970000  \n50%          30.370000  \n75%          30.820000  \nmax          32.840000  \n\n[11 rows x 23 columns]\n"
        }
      ],
      "execution_count": 19
    },
    {
      "cell_type": "code",
      "source": "import pandas as pd\n\n# Load the original CSV file\nfile_path = \"01.Data Cleaning and Preprocessing.csv\"  # Adjust if necessary\ndf = pd.read_csv(file_path)\n\n# Create a duplicate of the DataFrame\ndf_duplicate = df.copy()\n\n# Print confirmation\nprint(\"Original DataFrame:\")\nprint(df.head())\n\nprint(\"\\nDuplicated DataFrame:\")\nprint(df_duplicate.head())",
      "metadata": {
        "trusted": true
      },
      "outputs": [
        {
          "name": "stdout",
          "output_type": "stream",
          "text": "Original DataFrame:\n  Observation  Y-Kappa  ChipRate  BF-CMratio  BlowFlow  ChipLevel4   \\\n0    31-00:00    23.10    16.520     121.717  1177.607      169.805   \n1    31-01:00    27.60    16.810      79.022  1328.360      341.327   \n2    31-02:00    23.19    16.709      79.562  1329.407      239.161   \n3    31-03:00    23.60    16.478      81.011  1334.877      213.527   \n4    31-04:00    22.90    15.618      93.244  1334.168      243.131   \n\n   T-upperExt-2   T-lowerExt-2    UCZAA  WhiteFlow-4   ...  SteamFlow-4   \\\n0        358.282         329.545  1.443       599.253  ...        67.122   \n1        351.050         329.067  1.549       537.201  ...        60.012   \n2        350.022         329.260  1.600       549.611  ...        61.304   \n3        350.938         331.142  1.604       623.362  ...        68.496   \n4        351.640         332.709    NaN       638.672  ...        70.022   \n\n   Lower-HeatT-3  Upper-HeatT-3   ChipMass-4   WeakLiquorF   BlackFlow-2   \\\n0        329.432         303.099      175.964      1127.197      1319.039   \n1        330.823         304.879      163.202       665.975      1297.317   \n2        329.140         303.383      164.013       677.534      1327.072   \n3        328.875         302.254      181.487       767.853      1324.461   \n4        328.352         300.954      183.929       888.448      1343.424   \n\n   WeakWashF   SteamHeatF-3   T-Top-Chips-4   SulphidityL-4   \n0     257.325         54.612         252.077             NaN  \n1     241.182         46.603         251.406           29.11  \n2     237.272         51.795         251.335             NaN  \n3     239.478         54.846         250.312           29.02  \n4     215.372         54.186         249.916           29.01  \n\n[5 rows x 23 columns]\n\nDuplicated DataFrame:\n  Observation  Y-Kappa  ChipRate  BF-CMratio  BlowFlow  ChipLevel4   \\\n0    31-00:00    23.10    16.520     121.717  1177.607      169.805   \n1    31-01:00    27.60    16.810      79.022  1328.360      341.327   \n2    31-02:00    23.19    16.709      79.562  1329.407      239.161   \n3    31-03:00    23.60    16.478      81.011  1334.877      213.527   \n4    31-04:00    22.90    15.618      93.244  1334.168      243.131   \n\n   T-upperExt-2   T-lowerExt-2    UCZAA  WhiteFlow-4   ...  SteamFlow-4   \\\n0        358.282         329.545  1.443       599.253  ...        67.122   \n1        351.050         329.067  1.549       537.201  ...        60.012   \n2        350.022         329.260  1.600       549.611  ...        61.304   \n3        350.938         331.142  1.604       623.362  ...        68.496   \n4        351.640         332.709    NaN       638.672  ...        70.022   \n\n   Lower-HeatT-3  Upper-HeatT-3   ChipMass-4   WeakLiquorF   BlackFlow-2   \\\n0        329.432         303.099      175.964      1127.197      1319.039   \n1        330.823         304.879      163.202       665.975      1297.317   \n2        329.140         303.383      164.013       677.534      1327.072   \n3        328.875         302.254      181.487       767.853      1324.461   \n4        328.352         300.954      183.929       888.448      1343.424   \n\n   WeakWashF   SteamHeatF-3   T-Top-Chips-4   SulphidityL-4   \n0     257.325         54.612         252.077             NaN  \n1     241.182         46.603         251.406           29.11  \n2     237.272         51.795         251.335             NaN  \n3     239.478         54.846         250.312           29.02  \n4     215.372         54.186         249.916           29.01  \n\n[5 rows x 23 columns]\n"
        }
      ],
      "execution_count": 4
    },
    {
      "cell_type": "code",
      "source": "df.isnull",
      "metadata": {
        "trusted": true
      },
      "outputs": [
        {
          "execution_count": 5,
          "output_type": "execute_result",
          "data": {
            "text/plain": "<bound method DataFrame.isnull of     Observation  Y-Kappa  ChipRate  BF-CMratio  BlowFlow  ChipLevel4   \\\n0      31-00:00    23.10    16.520     121.717  1177.607      169.805   \n1      31-01:00    27.60    16.810      79.022  1328.360      341.327   \n2      31-02:00    23.19    16.709      79.562  1329.407      239.161   \n3      31-03:00    23.60    16.478      81.011  1334.877      213.527   \n4      31-04:00    22.90    15.618      93.244  1334.168      243.131   \n..          ...      ...       ...         ...       ...          ...   \n319    10-16:00    23.75    12.667      93.450  1178.252      276.955   \n320     9-19:00    19.80    12.558      94.352  1184.119      297.071   \n321     9-20:00    23.01    12.550      90.842  1188.517      289.826   \n322     9-21:00    24.32    13.083      88.910  1192.879      318.006   \n323     9-22:00    25.75    13.417      85.451  1186.342      248.312   \n\n     T-upperExt-2   T-lowerExt-2    UCZAA  WhiteFlow-4   ...  SteamFlow-4   \\\n0          358.282         329.545  1.443       599.253  ...        67.122   \n1          351.050         329.067  1.549       537.201  ...        60.012   \n2          350.022         329.260  1.600       549.611  ...        61.304   \n3          350.938         331.142  1.604       623.362  ...        68.496   \n4          351.640         332.709    NaN       638.672  ...        70.022   \n..             ...             ...    ...           ...  ...           ...   \n319        347.286         310.970  1.523       513.956  ...        61.141   \n320        399.135         319.576  1.451       570.058  ...        67.667   \n321        373.633         314.591  1.457       549.306  ...        66.446   \n322        364.081         308.559  1.523       504.852  ...        61.054   \n323        356.289         310.482  1.474       497.375  ...        58.247   \n\n     Lower-HeatT-3  Upper-HeatT-3   ChipMass-4   WeakLiquorF   BlackFlow-2   \\\n0          329.432         303.099      175.964      1127.197      1319.039   \n1          330.823         304.879      163.202       665.975      1297.317   \n2          329.140         303.383      164.013       677.534      1327.072   \n3          328.875         302.254      181.487       767.853      1324.461   \n4          328.352         300.954      183.929       888.448      1343.424   \n..             ...             ...          ...           ...           ...   \n319        330.117         304.006      148.174      1027.201      1357.271   \n320        330.848         304.616      165.178       906.962      1311.177   \n321        330.226         304.686      160.841       887.125      1319.226   \n322        327.346         304.363      147.589       804.423      1320.225   \n323        328.092         304.093      144.218       828.328      1320.848   \n\n     WeakWashF   SteamHeatF-3   T-Top-Chips-4   SulphidityL-4   \n0       257.325         54.612         252.077             NaN  \n1       241.182         46.603         251.406           29.11  \n2       237.272         51.795         251.335             NaN  \n3       239.478         54.846         250.312           29.02  \n4       215.372         54.186         249.916           29.01  \n..          ...            ...             ...             ...  \n319     381.643         45.264         252.947           30.86  \n320      25.494         50.528         252.092           30.70  \n321       0.638         45.549         252.438             NaN  \n322       0.000         43.725         253.176           31.13  \n323       1.276         43.840         253.216             NaN  \n\n[324 rows x 23 columns]>"
          },
          "metadata": {}
        }
      ],
      "execution_count": 5
    },
    {
      "cell_type": "code",
      "source": "df.isnull().sum()",
      "metadata": {
        "trusted": true
      },
      "outputs": [
        {
          "execution_count": 6,
          "output_type": "execute_result",
          "data": {
            "text/plain": "Observation          0\nY-Kappa              0\nChipRate             5\nBF-CMratio          17\nBlowFlow            16\nChipLevel4           1\nT-upperExt-2         2\nT-lowerExt-2         2\nUCZAA               25\nWhiteFlow-4          1\nAAWhiteSt-4        151\nAA-Wood-4            1\nChipMoisture-4       1\nSteamFlow-4          1\nLower-HeatT-3        2\nUpper-HeatT-3        2\nChipMass-4           1\nWeakLiquorF          1\nBlackFlow-2          2\nWeakWashF            1\nSteamHeatF-3         2\nT-Top-Chips-4        1\nSulphidityL-4      151\ndtype: int64"
          },
          "metadata": {}
        }
      ],
      "execution_count": 6
    },
    {
      "cell_type": "code",
      "source": "df.notnull()",
      "metadata": {
        "trusted": true
      },
      "outputs": [
        {
          "execution_count": 7,
          "output_type": "execute_result",
          "data": {
            "text/plain": "     Observation  Y-Kappa  ChipRate  BF-CMratio  BlowFlow  ChipLevel4   \\\n0           True     True      True        True      True         True   \n1           True     True      True        True      True         True   \n2           True     True      True        True      True         True   \n3           True     True      True        True      True         True   \n4           True     True      True        True      True         True   \n..           ...      ...       ...         ...       ...          ...   \n319         True     True      True        True      True         True   \n320         True     True      True        True      True         True   \n321         True     True      True        True      True         True   \n322         True     True      True        True      True         True   \n323         True     True      True        True      True         True   \n\n     T-upperExt-2   T-lowerExt-2    UCZAA  WhiteFlow-4   ...  SteamFlow-4   \\\n0             True            True   True          True  ...          True   \n1             True            True   True          True  ...          True   \n2             True            True   True          True  ...          True   \n3             True            True   True          True  ...          True   \n4             True            True  False          True  ...          True   \n..             ...             ...    ...           ...  ...           ...   \n319           True            True   True          True  ...          True   \n320           True            True   True          True  ...          True   \n321           True            True   True          True  ...          True   \n322           True            True   True          True  ...          True   \n323           True            True   True          True  ...          True   \n\n     Lower-HeatT-3  Upper-HeatT-3   ChipMass-4   WeakLiquorF   BlackFlow-2   \\\n0             True            True         True          True          True   \n1             True            True         True          True          True   \n2             True            True         True          True          True   \n3             True            True         True          True          True   \n4             True            True         True          True          True   \n..             ...             ...          ...           ...           ...   \n319           True            True         True          True          True   \n320           True            True         True          True          True   \n321           True            True         True          True          True   \n322           True            True         True          True          True   \n323           True            True         True          True          True   \n\n     WeakWashF   SteamHeatF-3   T-Top-Chips-4   SulphidityL-4   \n0          True           True            True           False  \n1          True           True            True            True  \n2          True           True            True           False  \n3          True           True            True            True  \n4          True           True            True            True  \n..          ...            ...             ...             ...  \n319        True           True            True            True  \n320        True           True            True            True  \n321        True           True            True           False  \n322        True           True            True            True  \n323        True           True            True           False  \n\n[324 rows x 23 columns]",
            "text/html": "<div>\n<style scoped>\n    .dataframe tbody tr th:only-of-type {\n        vertical-align: middle;\n    }\n\n    .dataframe tbody tr th {\n        vertical-align: top;\n    }\n\n    .dataframe thead th {\n        text-align: right;\n    }\n</style>\n<table border=\"1\" class=\"dataframe\">\n  <thead>\n    <tr style=\"text-align: right;\">\n      <th></th>\n      <th>Observation</th>\n      <th>Y-Kappa</th>\n      <th>ChipRate</th>\n      <th>BF-CMratio</th>\n      <th>BlowFlow</th>\n      <th>ChipLevel4</th>\n      <th>T-upperExt-2</th>\n      <th>T-lowerExt-2</th>\n      <th>UCZAA</th>\n      <th>WhiteFlow-4</th>\n      <th>...</th>\n      <th>SteamFlow-4</th>\n      <th>Lower-HeatT-3</th>\n      <th>Upper-HeatT-3</th>\n      <th>ChipMass-4</th>\n      <th>WeakLiquorF</th>\n      <th>BlackFlow-2</th>\n      <th>WeakWashF</th>\n      <th>SteamHeatF-3</th>\n      <th>T-Top-Chips-4</th>\n      <th>SulphidityL-4</th>\n    </tr>\n  </thead>\n  <tbody>\n    <tr>\n      <th>0</th>\n      <td>True</td>\n      <td>True</td>\n      <td>True</td>\n      <td>True</td>\n      <td>True</td>\n      <td>True</td>\n      <td>True</td>\n      <td>True</td>\n      <td>True</td>\n      <td>True</td>\n      <td>...</td>\n      <td>True</td>\n      <td>True</td>\n      <td>True</td>\n      <td>True</td>\n      <td>True</td>\n      <td>True</td>\n      <td>True</td>\n      <td>True</td>\n      <td>True</td>\n      <td>False</td>\n    </tr>\n    <tr>\n      <th>1</th>\n      <td>True</td>\n      <td>True</td>\n      <td>True</td>\n      <td>True</td>\n      <td>True</td>\n      <td>True</td>\n      <td>True</td>\n      <td>True</td>\n      <td>True</td>\n      <td>True</td>\n      <td>...</td>\n      <td>True</td>\n      <td>True</td>\n      <td>True</td>\n      <td>True</td>\n      <td>True</td>\n      <td>True</td>\n      <td>True</td>\n      <td>True</td>\n      <td>True</td>\n      <td>True</td>\n    </tr>\n    <tr>\n      <th>2</th>\n      <td>True</td>\n      <td>True</td>\n      <td>True</td>\n      <td>True</td>\n      <td>True</td>\n      <td>True</td>\n      <td>True</td>\n      <td>True</td>\n      <td>True</td>\n      <td>True</td>\n      <td>...</td>\n      <td>True</td>\n      <td>True</td>\n      <td>True</td>\n      <td>True</td>\n      <td>True</td>\n      <td>True</td>\n      <td>True</td>\n      <td>True</td>\n      <td>True</td>\n      <td>False</td>\n    </tr>\n    <tr>\n      <th>3</th>\n      <td>True</td>\n      <td>True</td>\n      <td>True</td>\n      <td>True</td>\n      <td>True</td>\n      <td>True</td>\n      <td>True</td>\n      <td>True</td>\n      <td>True</td>\n      <td>True</td>\n      <td>...</td>\n      <td>True</td>\n      <td>True</td>\n      <td>True</td>\n      <td>True</td>\n      <td>True</td>\n      <td>True</td>\n      <td>True</td>\n      <td>True</td>\n      <td>True</td>\n      <td>True</td>\n    </tr>\n    <tr>\n      <th>4</th>\n      <td>True</td>\n      <td>True</td>\n      <td>True</td>\n      <td>True</td>\n      <td>True</td>\n      <td>True</td>\n      <td>True</td>\n      <td>True</td>\n      <td>False</td>\n      <td>True</td>\n      <td>...</td>\n      <td>True</td>\n      <td>True</td>\n      <td>True</td>\n      <td>True</td>\n      <td>True</td>\n      <td>True</td>\n      <td>True</td>\n      <td>True</td>\n      <td>True</td>\n      <td>True</td>\n    </tr>\n    <tr>\n      <th>...</th>\n      <td>...</td>\n      <td>...</td>\n      <td>...</td>\n      <td>...</td>\n      <td>...</td>\n      <td>...</td>\n      <td>...</td>\n      <td>...</td>\n      <td>...</td>\n      <td>...</td>\n      <td>...</td>\n      <td>...</td>\n      <td>...</td>\n      <td>...</td>\n      <td>...</td>\n      <td>...</td>\n      <td>...</td>\n      <td>...</td>\n      <td>...</td>\n      <td>...</td>\n      <td>...</td>\n    </tr>\n    <tr>\n      <th>319</th>\n      <td>True</td>\n      <td>True</td>\n      <td>True</td>\n      <td>True</td>\n      <td>True</td>\n      <td>True</td>\n      <td>True</td>\n      <td>True</td>\n      <td>True</td>\n      <td>True</td>\n      <td>...</td>\n      <td>True</td>\n      <td>True</td>\n      <td>True</td>\n      <td>True</td>\n      <td>True</td>\n      <td>True</td>\n      <td>True</td>\n      <td>True</td>\n      <td>True</td>\n      <td>True</td>\n    </tr>\n    <tr>\n      <th>320</th>\n      <td>True</td>\n      <td>True</td>\n      <td>True</td>\n      <td>True</td>\n      <td>True</td>\n      <td>True</td>\n      <td>True</td>\n      <td>True</td>\n      <td>True</td>\n      <td>True</td>\n      <td>...</td>\n      <td>True</td>\n      <td>True</td>\n      <td>True</td>\n      <td>True</td>\n      <td>True</td>\n      <td>True</td>\n      <td>True</td>\n      <td>True</td>\n      <td>True</td>\n      <td>True</td>\n    </tr>\n    <tr>\n      <th>321</th>\n      <td>True</td>\n      <td>True</td>\n      <td>True</td>\n      <td>True</td>\n      <td>True</td>\n      <td>True</td>\n      <td>True</td>\n      <td>True</td>\n      <td>True</td>\n      <td>True</td>\n      <td>...</td>\n      <td>True</td>\n      <td>True</td>\n      <td>True</td>\n      <td>True</td>\n      <td>True</td>\n      <td>True</td>\n      <td>True</td>\n      <td>True</td>\n      <td>True</td>\n      <td>False</td>\n    </tr>\n    <tr>\n      <th>322</th>\n      <td>True</td>\n      <td>True</td>\n      <td>True</td>\n      <td>True</td>\n      <td>True</td>\n      <td>True</td>\n      <td>True</td>\n      <td>True</td>\n      <td>True</td>\n      <td>True</td>\n      <td>...</td>\n      <td>True</td>\n      <td>True</td>\n      <td>True</td>\n      <td>True</td>\n      <td>True</td>\n      <td>True</td>\n      <td>True</td>\n      <td>True</td>\n      <td>True</td>\n      <td>True</td>\n    </tr>\n    <tr>\n      <th>323</th>\n      <td>True</td>\n      <td>True</td>\n      <td>True</td>\n      <td>True</td>\n      <td>True</td>\n      <td>True</td>\n      <td>True</td>\n      <td>True</td>\n      <td>True</td>\n      <td>True</td>\n      <td>...</td>\n      <td>True</td>\n      <td>True</td>\n      <td>True</td>\n      <td>True</td>\n      <td>True</td>\n      <td>True</td>\n      <td>True</td>\n      <td>True</td>\n      <td>True</td>\n      <td>False</td>\n    </tr>\n  </tbody>\n</table>\n<p>324 rows × 23 columns</p>\n</div>"
          },
          "metadata": {}
        }
      ],
      "execution_count": 7
    },
    {
      "cell_type": "code",
      "source": "#detect the outliers using IQR\ndf.columns",
      "metadata": {
        "trusted": true
      },
      "outputs": [
        {
          "execution_count": 8,
          "output_type": "execute_result",
          "data": {
            "text/plain": "Index(['Observation', 'Y-Kappa', 'ChipRate', 'BF-CMratio', 'BlowFlow',\n       'ChipLevel4 ', 'T-upperExt-2 ', 'T-lowerExt-2  ', 'UCZAA',\n       'WhiteFlow-4 ', 'AAWhiteSt-4 ', 'AA-Wood-4  ', 'ChipMoisture-4 ',\n       'SteamFlow-4 ', 'Lower-HeatT-3', 'Upper-HeatT-3 ', 'ChipMass-4 ',\n       'WeakLiquorF ', 'BlackFlow-2 ', 'WeakWashF ', 'SteamHeatF-3 ',\n       'T-Top-Chips-4 ', 'SulphidityL-4 '],\n      dtype='object')"
          },
          "metadata": {}
        }
      ],
      "execution_count": 8
    }
  ]
}